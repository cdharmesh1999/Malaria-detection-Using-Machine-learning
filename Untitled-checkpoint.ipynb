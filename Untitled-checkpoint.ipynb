{
 "cells": [
  {
   "cell_type": "code",
   "execution_count": 119,
   "id": "007ad3f6",
   "metadata": {},
   "outputs": [],
   "source": [
    "from tensorflow.keras.layers import Input, Lambda, Dense, Flatten,Conv2D\n",
    "from tensorflow.keras.models import Model\n",
    "from tensorflow.keras.applications.vgg19 import VGG19\n",
    "from tensorflow.keras.applications.resnet50 import preprocess_input\n",
    "from tensorflow.keras.preprocessing import image\n",
    "from tensorflow.keras.preprocessing.image import ImageDataGenerator,load_img\n",
    "from tensorflow.keras.models import Sequential\n",
    "import numpy as np\n",
    "from glob import glob\n",
    "import matplotlib.pyplot as plt"
   ]
  },
  {
   "cell_type": "code",
   "execution_count": 184,
   "id": "3b0183db",
   "metadata": {},
   "outputs": [
    {
     "name": "stdout",
     "output_type": "stream",
     "text": [
      "<module 'tensorflow._api.v2.version' from 'C:\\\\Users\\\\Lenovo\\\\anaconda3\\\\lib\\\\site-packages\\\\tensorflow\\\\_api\\\\v2\\\\version\\\\__init__.py'>\n"
     ]
    }
   ],
   "source": [
    "import tensorflow as tf\n",
    "print(tf.version)\n",
    "\n"
   ]
  },
  {
   "cell_type": "code",
   "execution_count": 121,
   "id": "8f2efc89",
   "metadata": {},
   "outputs": [],
   "source": [
    "IMAGE_SIZE = [224, 224]\n",
    "\n",
    "train_path = r'C:\\Users\\Lenovo\\Desktop\\BE Project\\malariadetect\\Dataset\\Train'\n",
    "valid_path = r'C:\\Users\\Lenovo\\Desktop\\BE Project\\malariadetect\\Dataset\\Test'"
   ]
  },
  {
   "cell_type": "code",
   "execution_count": 122,
   "id": "4d0bf016",
   "metadata": {},
   "outputs": [],
   "source": [
    "mobilnet = VGG19(input_shape=IMAGE_SIZE + [3], weights='imagenet', include_top=False)"
   ]
  },
  {
   "cell_type": "code",
   "execution_count": 123,
   "id": "d519f999",
   "metadata": {},
   "outputs": [],
   "source": [
    "for layer in mobilnet.layers:\n",
    "    layer.trainable = False"
   ]
  },
  {
   "cell_type": "code",
   "execution_count": 124,
   "id": "f6cd0d33",
   "metadata": {},
   "outputs": [],
   "source": [
    "folders = glob(r'C:\\Users\\Lenovo\\Desktop\\BE Project\\malariadetect\\Dataset\\Train*')"
   ]
  },
  {
   "cell_type": "code",
   "execution_count": 125,
   "id": "257ef1e5",
   "metadata": {},
   "outputs": [
    {
     "data": {
      "text/plain": [
       "['C:\\\\Users\\\\Lenovo\\\\Desktop\\\\BE Project\\\\malariadetect\\\\Dataset\\\\Train']"
      ]
     },
     "execution_count": 125,
     "metadata": {},
     "output_type": "execute_result"
    }
   ],
   "source": [
    "folders"
   ]
  },
  {
   "cell_type": "code",
   "execution_count": 126,
   "id": "cbd5bdb8",
   "metadata": {},
   "outputs": [],
   "source": [
    "x = Flatten()(mobilnet.output)"
   ]
  },
  {
   "cell_type": "code",
   "execution_count": 127,
   "id": "f3289651",
   "metadata": {},
   "outputs": [],
   "source": [
    "prediction = Dense(len(folders), activation='softmax')(x)\n",
    "\n",
    "model = Model(inputs=mobilnet.input, outputs=prediction)"
   ]
  },
  {
   "cell_type": "code",
   "execution_count": 128,
   "id": "72801a1a",
   "metadata": {},
   "outputs": [
    {
     "name": "stdout",
     "output_type": "stream",
     "text": [
      "Model: \"model_4\"\n",
      "_________________________________________________________________\n",
      "Layer (type)                 Output Shape              Param #   \n",
      "=================================================================\n",
      "input_5 (InputLayer)         [(None, 224, 224, 3)]     0         \n",
      "_________________________________________________________________\n",
      "block1_conv1 (Conv2D)        (None, 224, 224, 64)      1792      \n",
      "_________________________________________________________________\n",
      "block1_conv2 (Conv2D)        (None, 224, 224, 64)      36928     \n",
      "_________________________________________________________________\n",
      "block1_pool (MaxPooling2D)   (None, 112, 112, 64)      0         \n",
      "_________________________________________________________________\n",
      "block2_conv1 (Conv2D)        (None, 112, 112, 128)     73856     \n",
      "_________________________________________________________________\n",
      "block2_conv2 (Conv2D)        (None, 112, 112, 128)     147584    \n",
      "_________________________________________________________________\n",
      "block2_pool (MaxPooling2D)   (None, 56, 56, 128)       0         \n",
      "_________________________________________________________________\n",
      "block3_conv1 (Conv2D)        (None, 56, 56, 256)       295168    \n",
      "_________________________________________________________________\n",
      "block3_conv2 (Conv2D)        (None, 56, 56, 256)       590080    \n",
      "_________________________________________________________________\n",
      "block3_conv3 (Conv2D)        (None, 56, 56, 256)       590080    \n",
      "_________________________________________________________________\n",
      "block3_conv4 (Conv2D)        (None, 56, 56, 256)       590080    \n",
      "_________________________________________________________________\n",
      "block3_pool (MaxPooling2D)   (None, 28, 28, 256)       0         \n",
      "_________________________________________________________________\n",
      "block4_conv1 (Conv2D)        (None, 28, 28, 512)       1180160   \n",
      "_________________________________________________________________\n",
      "block4_conv2 (Conv2D)        (None, 28, 28, 512)       2359808   \n",
      "_________________________________________________________________\n",
      "block4_conv3 (Conv2D)        (None, 28, 28, 512)       2359808   \n",
      "_________________________________________________________________\n",
      "block4_conv4 (Conv2D)        (None, 28, 28, 512)       2359808   \n",
      "_________________________________________________________________\n",
      "block4_pool (MaxPooling2D)   (None, 14, 14, 512)       0         \n",
      "_________________________________________________________________\n",
      "block5_conv1 (Conv2D)        (None, 14, 14, 512)       2359808   \n",
      "_________________________________________________________________\n",
      "block5_conv2 (Conv2D)        (None, 14, 14, 512)       2359808   \n",
      "_________________________________________________________________\n",
      "block5_conv3 (Conv2D)        (None, 14, 14, 512)       2359808   \n",
      "_________________________________________________________________\n",
      "block5_conv4 (Conv2D)        (None, 14, 14, 512)       2359808   \n",
      "_________________________________________________________________\n",
      "block5_pool (MaxPooling2D)   (None, 7, 7, 512)         0         \n",
      "_________________________________________________________________\n",
      "flatten_8 (Flatten)          (None, 25088)             0         \n",
      "_________________________________________________________________\n",
      "dense_12 (Dense)             (None, 1)                 25089     \n",
      "=================================================================\n",
      "Total params: 20,049,473\n",
      "Trainable params: 25,089\n",
      "Non-trainable params: 20,024,384\n",
      "_________________________________________________________________\n"
     ]
    }
   ],
   "source": [
    "model.summary()\n"
   ]
  },
  {
   "cell_type": "code",
   "execution_count": 129,
   "id": "9b83fd88",
   "metadata": {},
   "outputs": [],
   "source": [
    "from tensorflow.keras.layers import MaxPooling2D"
   ]
  },
  {
   "cell_type": "code",
   "execution_count": 130,
   "id": "e2aefe7e",
   "metadata": {},
   "outputs": [
    {
     "name": "stdout",
     "output_type": "stream",
     "text": [
      "Model: \"sequential_4\"\n",
      "_________________________________________________________________\n",
      "Layer (type)                 Output Shape              Param #   \n",
      "=================================================================\n",
      "conv2d_12 (Conv2D)           (None, 224, 224, 16)      208       \n",
      "_________________________________________________________________\n",
      "max_pooling2d_12 (MaxPooling (None, 112, 112, 16)      0         \n",
      "_________________________________________________________________\n",
      "conv2d_13 (Conv2D)           (None, 112, 112, 32)      2080      \n",
      "_________________________________________________________________\n",
      "max_pooling2d_13 (MaxPooling (None, 56, 56, 32)        0         \n",
      "_________________________________________________________________\n",
      "conv2d_14 (Conv2D)           (None, 56, 56, 64)        8256      \n",
      "_________________________________________________________________\n",
      "max_pooling2d_14 (MaxPooling (None, 28, 28, 64)        0         \n",
      "_________________________________________________________________\n",
      "flatten_9 (Flatten)          (None, 50176)             0         \n",
      "_________________________________________________________________\n",
      "dense_13 (Dense)             (None, 500)               25088500  \n",
      "_________________________________________________________________\n",
      "dense_14 (Dense)             (None, 2)                 1002      \n",
      "=================================================================\n",
      "Total params: 25,100,046\n",
      "Trainable params: 25,100,046\n",
      "Non-trainable params: 0\n",
      "_________________________________________________________________\n"
     ]
    }
   ],
   "source": [
    "model=Sequential()\n",
    "model.add(Conv2D(filters=16,kernel_size=2,padding=\"same\",activation=\"relu\",input_shape=(224,224,3)))\n",
    "model.add(MaxPooling2D(pool_size=2))\n",
    "model.add(Conv2D(filters=32,kernel_size=2,padding=\"same\",activation =\"relu\"))\n",
    "model.add(MaxPooling2D(pool_size=2))\n",
    "model.add(Conv2D(filters=64,kernel_size=2,padding=\"same\",activation=\"relu\"))\n",
    "model.add(MaxPooling2D(pool_size=2))\n",
    "model.add(Flatten())\n",
    "model.add(Dense(500,activation=\"relu\"))\n",
    "model.add(Dense(2,activation=\"softmax\"))\n",
    "model.summary()"
   ]
  },
  {
   "cell_type": "code",
   "execution_count": 131,
   "id": "f446f3fb",
   "metadata": {},
   "outputs": [],
   "source": [
    "model.compile(\n",
    "  loss='categorical_crossentropy',\n",
    "  optimizer='adam',\n",
    "  metrics=['accuracy']\n",
    ")"
   ]
  },
  {
   "cell_type": "code",
   "execution_count": 132,
   "id": "5f1047c1",
   "metadata": {},
   "outputs": [],
   "source": [
    "from tensorflow.keras.preprocessing.image import ImageDataGenerator\n",
    "\n",
    "train_datagen = ImageDataGenerator(rescale = 1./255,\n",
    "                                   shear_range = 0.2,\n",
    "                                   zoom_range = 0.2,\n",
    "                                   horizontal_flip = True)\n",
    "\n",
    "test_datagen = ImageDataGenerator(rescale = 1./255)"
   ]
  },
  {
   "cell_type": "code",
   "execution_count": 133,
   "id": "c200a822",
   "metadata": {},
   "outputs": [
    {
     "name": "stdout",
     "output_type": "stream",
     "text": [
      "Found 416 images belonging to 2 classes.\n"
     ]
    }
   ],
   "source": [
    "training_set = train_datagen.flow_from_directory(r'C:\\Users\\Lenovo\\Desktop\\BE Project\\malariadetect\\Dataset\\Train',\n",
    "                                                 target_size = (224, 224),\n",
    "                                                 batch_size = 32,\n",
    "                                                 class_mode = 'categorical')"
   ]
  },
  {
   "cell_type": "code",
   "execution_count": 134,
   "id": "681525ad",
   "metadata": {},
   "outputs": [
    {
     "data": {
      "text/plain": [
       "<tensorflow.python.keras.preprocessing.image.DirectoryIterator at 0x2338cea0100>"
      ]
     },
     "execution_count": 134,
     "metadata": {},
     "output_type": "execute_result"
    }
   ],
   "source": [
    "training_set"
   ]
  },
  {
   "cell_type": "code",
   "execution_count": 135,
   "id": "f70e18de",
   "metadata": {},
   "outputs": [
    {
     "name": "stdout",
     "output_type": "stream",
     "text": [
      "Found 134 images belonging to 2 classes.\n"
     ]
    }
   ],
   "source": [
    "test_set = test_datagen.flow_from_directory(r'C:\\Users\\Lenovo\\Desktop\\BE Project\\malariadetect\\Dataset\\Test',\n",
    "                                            target_size = (224, 224),\n",
    "                                            batch_size = 32,\n",
    "                                            class_mode = 'categorical')"
   ]
  },
  {
   "cell_type": "code",
   "execution_count": 136,
   "id": "272d1171",
   "metadata": {},
   "outputs": [
    {
     "name": "stdout",
     "output_type": "stream",
     "text": [
      "Epoch 1/18\n",
      "13/13 [==============================] - 22s 1s/step - loss: 1.1652 - accuracy: 0.4976 - val_loss: 0.6454 - val_accuracy: 0.6791\n",
      "Epoch 2/18\n",
      "13/13 [==============================] - 11s 834ms/step - loss: 0.6906 - accuracy: 0.5288 - val_loss: 0.6779 - val_accuracy: 0.6791\n",
      "Epoch 3/18\n",
      "13/13 [==============================] - 11s 807ms/step - loss: 0.6805 - accuracy: 0.5889 - val_loss: 0.6702 - val_accuracy: 0.6791\n",
      "Epoch 4/18\n",
      "13/13 [==============================] - 11s 823ms/step - loss: 0.6638 - accuracy: 0.5841 - val_loss: 0.6785 - val_accuracy: 0.5149\n",
      "Epoch 5/18\n",
      "13/13 [==============================] - 10s 798ms/step - loss: 0.6009 - accuracy: 0.6851 - val_loss: 0.7956 - val_accuracy: 0.4179\n",
      "Epoch 6/18\n",
      "13/13 [==============================] - 11s 846ms/step - loss: 0.4790 - accuracy: 0.7524 - val_loss: 1.2385 - val_accuracy: 0.3881\n",
      "Epoch 7/18\n",
      "13/13 [==============================] - 11s 808ms/step - loss: 0.4044 - accuracy: 0.8125 - val_loss: 0.9136 - val_accuracy: 0.4254\n",
      "Epoch 8/18\n",
      "13/13 [==============================] - 11s 842ms/step - loss: 0.3281 - accuracy: 0.8486 - val_loss: 0.7264 - val_accuracy: 0.5896\n",
      "Epoch 9/18\n",
      "13/13 [==============================] - 10s 781ms/step - loss: 0.2798 - accuracy: 0.8894 - val_loss: 0.5853 - val_accuracy: 0.7090\n",
      "Epoch 10/18\n",
      "13/13 [==============================] - 11s 792ms/step - loss: 0.2536 - accuracy: 0.9087 - val_loss: 0.3907 - val_accuracy: 0.8209\n",
      "Epoch 11/18\n",
      "13/13 [==============================] - 11s 808ms/step - loss: 0.1861 - accuracy: 0.9279 - val_loss: 0.5218 - val_accuracy: 0.7388\n",
      "Epoch 12/18\n",
      "13/13 [==============================] - 10s 782ms/step - loss: 0.1615 - accuracy: 0.9471 - val_loss: 0.4137 - val_accuracy: 0.7985\n",
      "Epoch 13/18\n",
      "13/13 [==============================] - 10s 800ms/step - loss: 0.1328 - accuracy: 0.9591 - val_loss: 0.3656 - val_accuracy: 0.8209\n",
      "Epoch 14/18\n",
      "13/13 [==============================] - 11s 834ms/step - loss: 0.1305 - accuracy: 0.9639 - val_loss: 0.4335 - val_accuracy: 0.8284\n",
      "Epoch 15/18\n",
      "13/13 [==============================] - 10s 776ms/step - loss: 0.1299 - accuracy: 0.9615 - val_loss: 0.4094 - val_accuracy: 0.8284\n",
      "Epoch 16/18\n",
      "13/13 [==============================] - 11s 784ms/step - loss: 0.1243 - accuracy: 0.9567 - val_loss: 0.5911 - val_accuracy: 0.7985\n",
      "Epoch 17/18\n",
      "13/13 [==============================] - 11s 789ms/step - loss: 0.1180 - accuracy: 0.9615 - val_loss: 0.2546 - val_accuracy: 0.8881\n",
      "Epoch 18/18\n",
      "13/13 [==============================] - 11s 790ms/step - loss: 0.0683 - accuracy: 0.9736 - val_loss: 0.3379 - val_accuracy: 0.8806\n"
     ]
    }
   ],
   "source": [
    "r = model.fit(\n",
    "  training_set,\n",
    "  validation_data=test_set,\n",
    "  epochs=50,\n",
    "  steps_per_epoch=len(training_set),\n",
    "  validation_steps=len(test_set),\n",
    ")\n"
   ]
  },
  {
   "cell_type": "code",
   "execution_count": 162,
   "id": "f56e4af0",
   "metadata": {},
   "outputs": [
    {
     "data": {
      "image/png": "[encoded data removed]",
      "text/plain": [
       "<Figure size 432x288 with 1 Axes>"
      ]
     },
     "metadata": {
      "needs_background": "light"
     },
     "output_type": "display_data"
    },
    {
     "data": {
      "text/plain": [
       "<Figure size 432x288 with 0 Axes>"
      ]
     },
     "metadata": {},
     "output_type": "display_data"
    }
   ],
   "source": [
    "plt.plot(r.history['loss'], label='train loss')\n",
    "plt.plot(r.history['val_loss'], label='val loss')\n",
    "plt.legend()\n",
    "plt.show()\n",
    "plt.savefig('LossVal_loss')\n",
    "\n"
   ]
  },
  {
   "cell_type": "code",
   "execution_count": 163,
   "id": "7971eb13",
   "metadata": {},
   "outputs": [
    {
     "data": {
      "image/png": "[encoded data removed]",
      "text/plain": [
       "<Figure size 432x288 with 1 Axes>"
      ]
     },
     "metadata": {
      "needs_background": "light"
     },
     "output_type": "display_data"
    },
    {
     "data": {
      "text/plain": [
       "<Figure size 432x288 with 0 Axes>"
      ]
     },
     "metadata": {},
     "output_type": "display_data"
    }
   ],
   "source": [
    "plt.plot(r.history['accuracy'], label='train acc')\n",
    "plt.plot(r.history['val_accuracy'], label='val acc')\n",
    "plt.legend()\n",
    "plt.show()\n",
    "plt.savefig('AccVal_acc')"
   ]
  },
  {
   "cell_type": "code",
   "execution_count": 186,
   "id": "685a5b50",
   "metadata": {},
   "outputs": [],
   "source": [
    "from tensorflow.keras.models import load_model\n",
    "\n",
    "model.save('model_vgg19.h5')\n"
   ]
  },
  {
   "cell_type": "code",
   "execution_count": 164,
   "id": "cf5f512f",
   "metadata": {},
   "outputs": [
    {
     "name": "stdout",
     "output_type": "stream",
     "text": [
      "Model: \"sequential_4\"\n",
      "_________________________________________________________________\n",
      "Layer (type)                 Output Shape              Param #   \n",
      "=================================================================\n",
      "conv2d_12 (Conv2D)           (None, 224, 224, 16)      208       \n",
      "_________________________________________________________________\n",
      "max_pooling2d_12 (MaxPooling (None, 112, 112, 16)      0         \n",
      "_________________________________________________________________\n",
      "conv2d_13 (Conv2D)           (None, 112, 112, 32)      2080      \n",
      "_________________________________________________________________\n",
      "max_pooling2d_13 (MaxPooling (None, 56, 56, 32)        0         \n",
      "_________________________________________________________________\n",
      "conv2d_14 (Conv2D)           (None, 56, 56, 64)        8256      \n",
      "_________________________________________________________________\n",
      "max_pooling2d_14 (MaxPooling (None, 28, 28, 64)        0         \n",
      "_________________________________________________________________\n",
      "flatten_9 (Flatten)          (None, 50176)             0         \n",
      "_________________________________________________________________\n",
      "dense_13 (Dense)             (None, 500)               25088500  \n",
      "_________________________________________________________________\n",
      "dense_14 (Dense)             (None, 2)                 1002      \n",
      "=================================================================\n",
      "Total params: 25,100,046\n",
      "Trainable params: 25,100,046\n",
      "Non-trainable params: 0\n",
      "_________________________________________________________________\n"
     ]
    }
   ],
   "source": [
    "model.summary()"
   ]
  },
  {
   "cell_type": "code",
   "execution_count": 165,
   "id": "0c298890",
   "metadata": {},
   "outputs": [],
   "source": [
    "y_pred = model.predict(test_set)"
   ]
  },
  {
   "cell_type": "code",
   "execution_count": 166,
   "id": "89dcd5af",
   "metadata": {
    "scrolled": false
   },
   "outputs": [
    {
     "data": {
      "text/plain": [
       "array([[9.99990225e-01, 9.76564024e-06],\n",
       "       [9.99438584e-01, 5.61456312e-04],\n",
       "       [9.98865724e-01, 1.13432948e-03],\n",
       "       [9.98924553e-01, 1.07537420e-03],\n",
       "       [4.40249264e-01, 5.59750736e-01],\n",
       "       [1.28234234e-02, 9.87176597e-01],\n",
       "       [9.95167136e-01, 4.83283959e-03],\n",
       "       [1.82550903e-02, 9.81744945e-01],\n",
       "       [5.49236536e-02, 9.45076346e-01],\n",
       "       [9.94729221e-01, 5.27076842e-03],\n",
       "       [9.99979973e-01, 2.00110062e-05],\n",
       "       [9.99979973e-01, 1.99742462e-05],\n",
       "       [4.13660519e-02, 9.58633959e-01],\n",
       "       [2.44571175e-02, 9.75542843e-01],\n",
       "       [9.99671102e-01, 3.28876980e-04],\n",
       "       [2.26357020e-02, 9.77364242e-01],\n",
       "       [9.99994516e-01, 5.44530985e-06],\n",
       "       [1.00000000e+00, 1.38029312e-08],\n",
       "       [9.98330772e-01, 1.66920247e-03],\n",
       "       [6.58630848e-01, 3.41369182e-01],\n",
       "       [3.03814024e-01, 6.96186006e-01],\n",
       "       [9.99999523e-01, 4.56528511e-07],\n",
       "       [9.99864936e-01, 1.35032562e-04],\n",
       "       [9.99970198e-01, 2.97547194e-05],\n",
       "       [1.00000000e+00, 3.68607651e-13],\n",
       "       [1.10194594e-01, 8.89805377e-01],\n",
       "       [3.13419066e-02, 9.68658090e-01],\n",
       "       [1.03079360e-02, 9.89692032e-01],\n",
       "       [6.78151399e-02, 9.32184935e-01],\n",
       "       [4.98649105e-02, 9.50135112e-01],\n",
       "       [9.89396036e-01, 1.06039438e-02],\n",
       "       [9.99226451e-01, 7.73519394e-04],\n",
       "       [1.06969595e-01, 8.93030405e-01],\n",
       "       [9.98859406e-01, 1.14065746e-03],\n",
       "       [1.47849694e-01, 8.52150261e-01],\n",
       "       [4.38093171e-02, 9.56190646e-01],\n",
       "       [9.79070187e-01, 2.09297892e-02],\n",
       "       [8.52701664e-02, 9.14729893e-01],\n",
       "       [9.99901414e-01, 9.85337610e-05],\n",
       "       [9.84653890e-01, 1.53460987e-02],\n",
       "       [9.99997973e-01, 2.07307949e-06],\n",
       "       [6.01966619e-01, 3.98033381e-01],\n",
       "       [1.89127903e-02, 9.81087267e-01],\n",
       "       [1.52921602e-02, 9.84707832e-01],\n",
       "       [9.99999285e-01, 6.76248135e-07],\n",
       "       [2.85175759e-02, 9.71482456e-01],\n",
       "       [4.54808623e-02, 9.54519093e-01],\n",
       "       [7.98604339e-02, 9.20139611e-01],\n",
       "       [1.43264830e-02, 9.85673547e-01],\n",
       "       [9.99952316e-01, 4.77396607e-05],\n",
       "       [2.53577232e-02, 9.74642336e-01],\n",
       "       [4.48489748e-02, 9.55151021e-01],\n",
       "       [9.97637678e-03, 9.90023673e-01],\n",
       "       [2.36533862e-02, 9.76346612e-01],\n",
       "       [2.94181466e-01, 7.05818534e-01],\n",
       "       [9.97858226e-01, 2.14178232e-03],\n",
       "       [2.82638073e-02, 9.71736193e-01],\n",
       "       [9.97592628e-01, 2.40737339e-03],\n",
       "       [9.99589026e-01, 4.10995446e-04],\n",
       "       [9.99963403e-01, 3.66272470e-05],\n",
       "       [2.61815190e-02, 9.73818481e-01],\n",
       "       [8.45562875e-01, 1.54437050e-01],\n",
       "       [9.96523142e-01, 3.47693544e-03],\n",
       "       [1.00000000e+00, 4.93828173e-11],\n",
       "       [9.99999404e-01, 5.57136218e-07],\n",
       "       [9.95056510e-01, 4.94347792e-03],\n",
       "       [6.94704473e-01, 3.05295557e-01],\n",
       "       [7.09492981e-01, 2.90507019e-01],\n",
       "       [9.81153905e-01, 1.88460778e-02],\n",
       "       [9.85652328e-01, 1.43477013e-02],\n",
       "       [1.00000000e+00, 2.93758227e-08],\n",
       "       [9.95435536e-01, 4.56443429e-03],\n",
       "       [1.89855415e-02, 9.81014490e-01],\n",
       "       [9.99999046e-01, 9.27896508e-07],\n",
       "       [9.97541666e-01, 2.45834887e-03],\n",
       "       [5.45602404e-02, 9.45439756e-01],\n",
       "       [9.98185813e-01, 1.81418052e-03],\n",
       "       [1.90410614e-01, 8.09589386e-01],\n",
       "       [9.99480307e-01, 5.19694120e-04],\n",
       "       [9.99024272e-01, 9.75675706e-04],\n",
       "       [7.36113369e-01, 2.63886631e-01],\n",
       "       [5.47600925e-01, 4.52399075e-01],\n",
       "       [3.89890410e-02, 9.61010993e-01],\n",
       "       [2.79190429e-02, 9.72081006e-01],\n",
       "       [8.79638910e-01, 1.20361112e-01],\n",
       "       [2.53655225e-01, 7.46344805e-01],\n",
       "       [2.35742599e-01, 7.64257431e-01],\n",
       "       [4.04072925e-02, 9.59592700e-01],\n",
       "       [4.98804562e-02, 9.50119495e-01],\n",
       "       [3.63736264e-02, 9.63626444e-01],\n",
       "       [9.99974132e-01, 2.59249737e-05],\n",
       "       [7.10697174e-01, 2.89302826e-01],\n",
       "       [9.97361362e-01, 2.63867597e-03],\n",
       "       [9.99532580e-01, 4.67423379e-04],\n",
       "       [1.15135528e-01, 8.84864450e-01],\n",
       "       [2.51767933e-02, 9.74823177e-01],\n",
       "       [6.10950768e-01, 3.89049232e-01],\n",
       "       [1.00000000e+00, 4.27883250e-11],\n",
       "       [4.38314863e-02, 9.56168532e-01],\n",
       "       [8.74252915e-02, 9.12574649e-01],\n",
       "       [1.30897928e-02, 9.86910164e-01],\n",
       "       [1.68040730e-02, 9.83195901e-01],\n",
       "       [9.78227735e-01, 2.17722952e-02],\n",
       "       [9.99597371e-01, 4.02689446e-04],\n",
       "       [9.72671032e-01, 2.73289680e-02],\n",
       "       [9.99953389e-01, 4.65584562e-05],\n",
       "       [9.23097908e-01, 7.69020841e-02],\n",
       "       [9.97199178e-01, 2.80086603e-03],\n",
       "       [9.99857664e-01, 1.42345365e-04],\n",
       "       [9.45213675e-01, 5.47862947e-02],\n",
       "       [1.00000000e+00, 3.06850552e-12],\n",
       "       [4.10020612e-02, 9.58997905e-01],\n",
       "       [9.99999642e-01, 3.48911811e-07],\n",
       "       [1.62499733e-02, 9.83750045e-01],\n",
       "       [9.30224240e-01, 6.97757006e-02],\n",
       "       [9.99991536e-01, 8.45314480e-06],\n",
       "       [9.99781311e-01, 2.18720568e-04],\n",
       "       [8.60743284e-01, 1.39256656e-01],\n",
       "       [9.92791891e-01, 7.20808841e-03],\n",
       "       [1.88076906e-02, 9.81192231e-01],\n",
       "       [8.10006499e-01, 1.89993486e-01],\n",
       "       [9.88398910e-01, 1.16010355e-02],\n",
       "       [2.14983989e-02, 9.78501558e-01],\n",
       "       [2.90537715e-01, 7.09462285e-01],\n",
       "       [1.00000000e+00, 1.09261200e-12],\n",
       "       [9.95047569e-01, 4.95247450e-03],\n",
       "       [7.61775374e-02, 9.23822463e-01],\n",
       "       [9.99980569e-01, 1.93765227e-05],\n",
       "       [9.76138338e-02, 9.02386189e-01],\n",
       "       [9.99999881e-01, 1.10914996e-07],\n",
       "       [9.92393613e-01, 7.60642439e-03],\n",
       "       [9.99718964e-01, 2.81035551e-04],\n",
       "       [9.99616623e-01, 3.83333827e-04],\n",
       "       [9.97875929e-01, 2.12408579e-03]], dtype=float32)"
      ]
     },
     "execution_count": 166,
     "metadata": {},
     "output_type": "execute_result"
    }
   ],
   "source": [
    "y_pred"
   ]
  },
  {
   "cell_type": "code",
   "execution_count": 167,
   "id": "7e6bfe17",
   "metadata": {},
   "outputs": [],
   "source": [
    "import numpy as np\n",
    "y_pred = np.argmax(y_pred, axis=1)"
   ]
  },
  {
   "cell_type": "code",
   "execution_count": 168,
   "id": "54ba3b23",
   "metadata": {},
   "outputs": [
    {
     "data": {
      "text/plain": [
       "array([0, 0, 0, 0, 1, 1, 0, 1, 1, 0, 0, 0, 1, 1, 0, 1, 0, 0, 0, 0, 1, 0,\n",
       "       0, 0, 0, 1, 1, 1, 1, 1, 0, 0, 1, 0, 1, 1, 0, 1, 0, 0, 0, 0, 1, 1,\n",
       "       0, 1, 1, 1, 1, 0, 1, 1, 1, 1, 1, 0, 1, 0, 0, 0, 1, 0, 0, 0, 0, 0,\n",
       "       0, 0, 0, 0, 0, 0, 1, 0, 0, 1, 0, 1, 0, 0, 0, 0, 1, 1, 0, 1, 1, 1,\n",
       "       1, 1, 0, 0, 0, 0, 1, 1, 0, 0, 1, 1, 1, 1, 0, 0, 0, 0, 0, 0, 0, 0,\n",
       "       0, 1, 0, 1, 0, 0, 0, 0, 0, 1, 0, 0, 1, 1, 0, 0, 1, 0, 1, 0, 0, 0,\n",
       "       0, 0], dtype=int64)"
      ]
     },
     "execution_count": 168,
     "metadata": {},
     "output_type": "execute_result"
    }
   ],
   "source": [
    "y_pred"
   ]
  },
  {
   "cell_type": "code",
   "execution_count": 169,
   "id": "3babfdd0",
   "metadata": {},
   "outputs": [],
   "source": [
    "from tensorflow.keras.models import load_model\n",
    "from tensorflow.keras.preprocessing import image"
   ]
  },
  {
   "cell_type": "code",
   "execution_count": 182,
   "id": "1e1cd36e",
   "metadata": {},
   "outputs": [],
   "source": [
    "model=load_model('model_vgg19.h5')"
   ]
  },
  {
   "cell_type": "code",
   "execution_count": 171,
   "id": "9016b819",
   "metadata": {},
   "outputs": [],
   "source": [
    "img=image.load_img(r'C:\\Users\\Lenovo\\Desktop\\BE Project\\malariadetect\\Dataset\\Test\\Parasite\\4.png',target_size=(224,224))\n"
   ]
  },
  {
   "cell_type": "code",
   "execution_count": 172,
   "id": "61680b89",
   "metadata": {},
   "outputs": [
    {
     "data": {
      "text/plain": [
       "array([[[0., 0., 0.],\n",
       "        [0., 0., 0.],\n",
       "        [0., 0., 0.],\n",
       "        ...,\n",
       "        [0., 0., 0.],\n",
       "        [0., 0., 0.],\n",
       "        [0., 0., 0.]],\n",
       "\n",
       "       [[0., 0., 0.],\n",
       "        [0., 0., 0.],\n",
       "        [0., 0., 0.],\n",
       "        ...,\n",
       "        [0., 0., 0.],\n",
       "        [0., 0., 0.],\n",
       "        [0., 0., 0.]],\n",
       "\n",
       "       [[0., 0., 0.],\n",
       "        [0., 0., 0.],\n",
       "        [0., 0., 0.],\n",
       "        ...,\n",
       "        [0., 0., 0.],\n",
       "        [0., 0., 0.],\n",
       "        [0., 0., 0.]],\n",
       "\n",
       "       ...,\n",
       "\n",
       "       [[0., 0., 0.],\n",
       "        [0., 0., 0.],\n",
       "        [0., 0., 0.],\n",
       "        ...,\n",
       "        [0., 0., 0.],\n",
       "        [0., 0., 0.],\n",
       "        [0., 0., 0.]],\n",
       "\n",
       "       [[0., 0., 0.],\n",
       "        [0., 0., 0.],\n",
       "        [0., 0., 0.],\n",
       "        ...,\n",
       "        [0., 0., 0.],\n",
       "        [0., 0., 0.],\n",
       "        [0., 0., 0.]],\n",
       "\n",
       "       [[0., 0., 0.],\n",
       "        [0., 0., 0.],\n",
       "        [0., 0., 0.],\n",
       "        ...,\n",
       "        [0., 0., 0.],\n",
       "        [0., 0., 0.],\n",
       "        [0., 0., 0.]]], dtype=float32)"
      ]
     },
     "execution_count": 172,
     "metadata": {},
     "output_type": "execute_result"
    }
   ],
   "source": [
    "x=image.img_to_array(img)\n",
    "x"
   ]
  },
  {
   "cell_type": "code",
   "execution_count": 173,
   "id": "eaa81021",
   "metadata": {},
   "outputs": [
    {
     "data": {
      "text/plain": [
       "(224, 224, 3)"
      ]
     },
     "execution_count": 173,
     "metadata": {},
     "output_type": "execute_result"
    }
   ],
   "source": [
    "x.shape"
   ]
  },
  {
   "cell_type": "code",
   "execution_count": 174,
   "id": "9499f060",
   "metadata": {},
   "outputs": [],
   "source": [
    "x=x/255"
   ]
  },
  {
   "cell_type": "code",
   "execution_count": 175,
   "id": "a5f26618",
   "metadata": {},
   "outputs": [
    {
     "data": {
      "text/plain": [
       "(1, 224, 224, 3)"
      ]
     },
     "execution_count": 175,
     "metadata": {},
     "output_type": "execute_result"
    }
   ],
   "source": [
    "x=np.expand_dims(x,axis=0)\n",
    "img_data=preprocess_input(x)\n",
    "img_data.shape"
   ]
  },
  {
   "cell_type": "code",
   "execution_count": 179,
   "id": "1f9d10ea",
   "metadata": {},
   "outputs": [
    {
     "data": {
      "text/plain": [
       "array([[0., 1.]], dtype=float32)"
      ]
     },
     "execution_count": 179,
     "metadata": {},
     "output_type": "execute_result"
    }
   ],
   "source": [
    "model.predict(img_data)"
   ]
  },
  {
   "cell_type": "code",
   "execution_count": 177,
   "id": "a4d1a95f",
   "metadata": {},
   "outputs": [],
   "source": [
    "a=np.argmax(model.predict(img_data), axis=1)"
   ]
  },
  {
   "cell_type": "code",
   "execution_count": 180,
   "id": "82eb6c9a",
   "metadata": {},
   "outputs": [
    {
     "name": "stdout",
     "output_type": "stream",
     "text": [
      "Uninfected\n"
     ]
    }
   ],
   "source": [
    "if(a==1):\n",
    "    print(\"Uninfected\")\n",
    "else:\n",
    "    print(\"Infected\")"
   ]
  },
  {
   "cell_type": "code",
   "execution_count": null,
   "id": "687ccd4e",
   "metadata": {},
   "outputs": [],
   "source": []
  }
 ],
 "metadata": {
  "kernelspec": {
   "display_name": "Python 3",
   "language": "python",
   "name": "python3"
  },
  "language_info": {
   "codemirror_mode": {
    "name": "ipython",
    "version": 3
   },
   "file_extension": ".py",
   "mimetype": "text/x-python",
   "name": "python",
   "nbconvert_exporter": "python",
   "pygments_lexer": "ipython3",
   "version": "3.8.8"
  }
 },
 "nbformat": 4,
 "nbformat_minor": 5
}
