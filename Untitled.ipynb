{
 "cells": [
  {
   "cell_type": "code",
   "execution_count": 73,
   "id": "007ad3f6",
   "metadata": {},
   "outputs": [],
   "source": [
    "from tensorflow.keras.layers import Input, Lambda, Dense, Flatten,Conv2D\n",
    "from tensorflow.keras.models import Model\n",
    "from tensorflow.keras.applications.vgg19 import VGG19\n",
    "from tensorflow.keras.applications.resnet50 import preprocess_input\n",
    "from tensorflow.keras.preprocessing import image\n",
    "from tensorflow.keras.preprocessing.image import ImageDataGenerator,load_img\n",
    "from tensorflow.keras.models import Sequential\n",
    "import numpy as np\n",
    "from glob import glob\n",
    "import matplotlib.pyplot as plt"
   ]
  },
  {
   "cell_type": "code",
   "execution_count": 74,
   "id": "3b0183db",
   "metadata": {},
   "outputs": [
    {
     "name": "stdout",
     "output_type": "stream",
     "text": [
      "<module 'tensorflow._api.v2.version' from 'C:\\\\Users\\\\Lenovo\\\\anaconda3\\\\lib\\\\site-packages\\\\tensorflow\\\\_api\\\\v2\\\\version\\\\__init__.py'>\n"
     ]
    }
   ],
   "source": [
    "import tensorflow as tf\n",
    "print(tf.version)\n",
    "\n"
   ]
  },
  {
   "cell_type": "code",
   "execution_count": 75,
   "id": "8f2efc89",
   "metadata": {},
   "outputs": [],
   "source": [
    "IMAGE_SIZE = [224, 224]\n",
    "\n",
    "train_path = r'C:\\Users\\Lenovo\\Desktop\\BE Project\\malariadetect\\Dataset\\Train'\n",
    "valid_path = r'C:\\Users\\Lenovo\\Desktop\\BE Project\\malariadetect\\Dataset\\Test'"
   ]
  },
  {
   "cell_type": "code",
   "execution_count": 76,
   "id": "4d0bf016",
   "metadata": {},
   "outputs": [],
   "source": [
    "mobilnet = VGG19(input_shape=IMAGE_SIZE + [3], weights='imagenet', include_top=False)"
   ]
  },
  {
   "cell_type": "code",
   "execution_count": 77,
   "id": "d519f999",
   "metadata": {},
   "outputs": [],
   "source": [
    "for layer in mobilnet.layers:\n",
    "    layer.trainable = False"
   ]
  },
  {
   "cell_type": "code",
   "execution_count": 78,
   "id": "f6cd0d33",
   "metadata": {},
   "outputs": [],
   "source": [
    "folders = glob(r'C:\\Users\\Lenovo\\Desktop\\BE Project\\malariadetect\\Dataset\\Train*')"
   ]
  },
  {
   "cell_type": "code",
   "execution_count": 79,
   "id": "257ef1e5",
   "metadata": {},
   "outputs": [
    {
     "data": {
      "text/plain": [
       "['C:\\\\Users\\\\Lenovo\\\\Desktop\\\\BE Project\\\\malariadetect\\\\Dataset\\\\Train']"
      ]
     },
     "execution_count": 79,
     "metadata": {},
     "output_type": "execute_result"
    }
   ],
   "source": [
    "folders"
   ]
  },
  {
   "cell_type": "code",
   "execution_count": 80,
   "id": "cbd5bdb8",
   "metadata": {},
   "outputs": [],
   "source": [
    "x = Flatten()(mobilnet.output)"
   ]
  },
  {
   "cell_type": "code",
   "execution_count": 81,
   "id": "f3289651",
   "metadata": {},
   "outputs": [],
   "source": [
    "prediction = Dense(len(folders), activation='softmax')(x)\n",
    "\n",
    "model = Model(inputs=mobilnet.input, outputs=prediction)"
   ]
  },
  {
   "cell_type": "code",
   "execution_count": 82,
   "id": "72801a1a",
   "metadata": {},
   "outputs": [
    {
     "name": "stdout",
     "output_type": "stream",
     "text": [
      "Model: \"model_2\"\n",
      "_________________________________________________________________\n",
      "Layer (type)                 Output Shape              Param #   \n",
      "=================================================================\n",
      "input_3 (InputLayer)         [(None, 224, 224, 3)]     0         \n",
      "_________________________________________________________________\n",
      "block1_conv1 (Conv2D)        (None, 224, 224, 64)      1792      \n",
      "_________________________________________________________________\n",
      "block1_conv2 (Conv2D)        (None, 224, 224, 64)      36928     \n",
      "_________________________________________________________________\n",
      "block1_pool (MaxPooling2D)   (None, 112, 112, 64)      0         \n",
      "_________________________________________________________________\n",
      "block2_conv1 (Conv2D)        (None, 112, 112, 128)     73856     \n",
      "_________________________________________________________________\n",
      "block2_conv2 (Conv2D)        (None, 112, 112, 128)     147584    \n",
      "_________________________________________________________________\n",
      "block2_pool (MaxPooling2D)   (None, 56, 56, 128)       0         \n",
      "_________________________________________________________________\n",
      "block3_conv1 (Conv2D)        (None, 56, 56, 256)       295168    \n",
      "_________________________________________________________________\n",
      "block3_conv2 (Conv2D)        (None, 56, 56, 256)       590080    \n",
      "_________________________________________________________________\n",
      "block3_conv3 (Conv2D)        (None, 56, 56, 256)       590080    \n",
      "_________________________________________________________________\n",
      "block3_conv4 (Conv2D)        (None, 56, 56, 256)       590080    \n",
      "_________________________________________________________________\n",
      "block3_pool (MaxPooling2D)   (None, 28, 28, 256)       0         \n",
      "_________________________________________________________________\n",
      "block4_conv1 (Conv2D)        (None, 28, 28, 512)       1180160   \n",
      "_________________________________________________________________\n",
      "block4_conv2 (Conv2D)        (None, 28, 28, 512)       2359808   \n",
      "_________________________________________________________________\n",
      "block4_conv3 (Conv2D)        (None, 28, 28, 512)       2359808   \n",
      "_________________________________________________________________\n",
      "block4_conv4 (Conv2D)        (None, 28, 28, 512)       2359808   \n",
      "_________________________________________________________________\n",
      "block4_pool (MaxPooling2D)   (None, 14, 14, 512)       0         \n",
      "_________________________________________________________________\n",
      "block5_conv1 (Conv2D)        (None, 14, 14, 512)       2359808   \n",
      "_________________________________________________________________\n",
      "block5_conv2 (Conv2D)        (None, 14, 14, 512)       2359808   \n",
      "_________________________________________________________________\n",
      "block5_conv3 (Conv2D)        (None, 14, 14, 512)       2359808   \n",
      "_________________________________________________________________\n",
      "block5_conv4 (Conv2D)        (None, 14, 14, 512)       2359808   \n",
      "_________________________________________________________________\n",
      "block5_pool (MaxPooling2D)   (None, 7, 7, 512)         0         \n",
      "_________________________________________________________________\n",
      "flatten_4 (Flatten)          (None, 25088)             0         \n",
      "_________________________________________________________________\n",
      "dense_6 (Dense)              (None, 1)                 25089     \n",
      "=================================================================\n",
      "Total params: 20,049,473\n",
      "Trainable params: 25,089\n",
      "Non-trainable params: 20,024,384\n",
      "_________________________________________________________________\n"
     ]
    }
   ],
   "source": [
    "model.summary()\n"
   ]
  },
  {
   "cell_type": "code",
   "execution_count": 83,
   "id": "9b83fd88",
   "metadata": {},
   "outputs": [],
   "source": [
    "from tensorflow.keras.layers import MaxPooling2D"
   ]
  },
  {
   "cell_type": "code",
   "execution_count": 84,
   "id": "e2aefe7e",
   "metadata": {},
   "outputs": [
    {
     "name": "stdout",
     "output_type": "stream",
     "text": [
      "Model: \"sequential_2\"\n",
      "_________________________________________________________________\n",
      "Layer (type)                 Output Shape              Param #   \n",
      "=================================================================\n",
      "conv2d_6 (Conv2D)            (None, 224, 224, 16)      208       \n",
      "_________________________________________________________________\n",
      "max_pooling2d_6 (MaxPooling2 (None, 112, 112, 16)      0         \n",
      "_________________________________________________________________\n",
      "conv2d_7 (Conv2D)            (None, 112, 112, 32)      2080      \n",
      "_________________________________________________________________\n",
      "max_pooling2d_7 (MaxPooling2 (None, 56, 56, 32)        0         \n",
      "_________________________________________________________________\n",
      "conv2d_8 (Conv2D)            (None, 56, 56, 64)        8256      \n",
      "_________________________________________________________________\n",
      "max_pooling2d_8 (MaxPooling2 (None, 28, 28, 64)        0         \n",
      "_________________________________________________________________\n",
      "flatten_5 (Flatten)          (None, 50176)             0         \n",
      "_________________________________________________________________\n",
      "dense_7 (Dense)              (None, 500)               25088500  \n",
      "_________________________________________________________________\n",
      "dense_8 (Dense)              (None, 2)                 1002      \n",
      "=================================================================\n",
      "Total params: 25,100,046\n",
      "Trainable params: 25,100,046\n",
      "Non-trainable params: 0\n",
      "_________________________________________________________________\n"
     ]
    }
   ],
   "source": [
    "model=Sequential()\n",
    "model.add(Conv2D(filters=16,kernel_size=2,padding=\"same\",activation=\"relu\",input_shape=(224,224,3)))\n",
    "model.add(MaxPooling2D(pool_size=2))\n",
    "model.add(Conv2D(filters=32,kernel_size=2,padding=\"same\",activation =\"relu\"))\n",
    "model.add(MaxPooling2D(pool_size=2))\n",
    "model.add(Conv2D(filters=64,kernel_size=2,padding=\"same\",activation=\"relu\"))\n",
    "model.add(MaxPooling2D(pool_size=2))\n",
    "model.add(Flatten())\n",
    "model.add(Dense(500,activation=\"relu\"))\n",
    "model.add(Dense(2,activation=\"softmax\"))\n",
    "model.summary()"
   ]
  },
  {
   "cell_type": "code",
   "execution_count": 85,
   "id": "f446f3fb",
   "metadata": {},
   "outputs": [],
   "source": [
    "model.compile(\n",
    "  loss='categorical_crossentropy',\n",
    "  optimizer='adam',\n",
    "  metrics=['accuracy']\n",
    ")"
   ]
  },
  {
   "cell_type": "code",
   "execution_count": 86,
   "id": "5f1047c1",
   "metadata": {},
   "outputs": [],
   "source": [
    "from tensorflow.keras.preprocessing.image import ImageDataGenerator\n",
    "\n",
    "train_datagen = ImageDataGenerator(rescale = 1./255,\n",
    "                                   shear_range = 0.2,\n",
    "                                   zoom_range = 0.2,\n",
    "                                   horizontal_flip = True)\n",
    "\n",
    "test_datagen = ImageDataGenerator(rescale = 1./255)"
   ]
  },
  {
   "cell_type": "code",
   "execution_count": 87,
   "id": "c200a822",
   "metadata": {},
   "outputs": [
    {
     "name": "stdout",
     "output_type": "stream",
     "text": [
      "Found 416 images belonging to 2 classes.\n"
     ]
    }
   ],
   "source": [
    "training_set = train_datagen.flow_from_directory(r'C:\\Users\\Lenovo\\Desktop\\BE Project\\malariadetect\\Dataset\\Train',\n",
    "                                                 target_size = (224, 224),\n",
    "                                                 batch_size = 32,\n",
    "                                                 class_mode = 'categorical')"
   ]
  },
  {
   "cell_type": "code",
   "execution_count": 88,
   "id": "681525ad",
   "metadata": {},
   "outputs": [
    {
     "data": {
      "text/plain": [
       "<tensorflow.python.keras.preprocessing.image.DirectoryIterator at 0x216bfc89dc0>"
      ]
     },
     "execution_count": 88,
     "metadata": {},
     "output_type": "execute_result"
    }
   ],
   "source": [
    "training_set"
   ]
  },
  {
   "cell_type": "code",
   "execution_count": 89,
   "id": "f70e18de",
   "metadata": {},
   "outputs": [
    {
     "name": "stdout",
     "output_type": "stream",
     "text": [
      "Found 134 images belonging to 2 classes.\n"
     ]
    }
   ],
   "source": [
    "test_set = test_datagen.flow_from_directory(r'C:\\Users\\Lenovo\\Desktop\\BE Project\\malariadetect\\Dataset\\Test',\n",
    "                                            target_size = (224, 224),\n",
    "                                            batch_size = 32,\n",
    "                                            class_mode = 'categorical')"
   ]
  },
  {
   "cell_type": "code",
   "execution_count": 90,
   "id": "272d1171",
   "metadata": {
    "scrolled": true
   },
   "outputs": [
    {
     "name": "stdout",
     "output_type": "stream",
     "text": [
      "Epoch 1/18\n",
      "13/13 [==============================] - 23s 1s/step - loss: 1.5595 - accuracy: 0.5312 - val_loss: 0.6659 - val_accuracy: 0.6493\n",
      "Epoch 2/18\n",
      "13/13 [==============================] - 11s 862ms/step - loss: 0.6628 - accuracy: 0.6226 - val_loss: 0.6419 - val_accuracy: 0.6791\n",
      "Epoch 3/18\n",
      "13/13 [==============================] - 11s 863ms/step - loss: 0.6463 - accuracy: 0.6130 - val_loss: 0.7230 - val_accuracy: 0.4627\n",
      "Epoch 4/18\n",
      "13/13 [==============================] - 13s 964ms/step - loss: 0.6023 - accuracy: 0.6635 - val_loss: 0.7677 - val_accuracy: 0.4104\n",
      "Epoch 5/18\n",
      "13/13 [==============================] - 12s 881ms/step - loss: 0.4653 - accuracy: 0.7692 - val_loss: 0.9441 - val_accuracy: 0.3955\n",
      "Epoch 6/18\n",
      "13/13 [==============================] - 12s 892ms/step - loss: 0.4071 - accuracy: 0.8053 - val_loss: 0.7590 - val_accuracy: 0.4925\n",
      "Epoch 7/18\n",
      "13/13 [==============================] - 12s 942ms/step - loss: 0.4250 - accuracy: 0.8077 - val_loss: 0.8830 - val_accuracy: 0.4627\n",
      "Epoch 8/18\n",
      "13/13 [==============================] - 12s 867ms/step - loss: 0.3381 - accuracy: 0.8534 - val_loss: 0.7548 - val_accuracy: 0.5597\n",
      "Epoch 9/18\n",
      "13/13 [==============================] - 12s 917ms/step - loss: 0.2582 - accuracy: 0.9038 - val_loss: 1.1121 - val_accuracy: 0.5448\n",
      "Epoch 10/18\n",
      "13/13 [==============================] - 12s 855ms/step - loss: 0.2106 - accuracy: 0.9231 - val_loss: 0.8360 - val_accuracy: 0.5821\n",
      "Epoch 11/18\n",
      "13/13 [==============================] - 12s 913ms/step - loss: 0.2033 - accuracy: 0.9303 - val_loss: 0.3743 - val_accuracy: 0.8134\n",
      "Epoch 12/18\n",
      "13/13 [==============================] - 12s 929ms/step - loss: 0.1526 - accuracy: 0.9447 - val_loss: 0.3730 - val_accuracy: 0.8134\n",
      "Epoch 13/18\n",
      "13/13 [==============================] - 12s 911ms/step - loss: 0.1186 - accuracy: 0.9591 - val_loss: 0.4034 - val_accuracy: 0.7836\n",
      "Epoch 14/18\n",
      "13/13 [==============================] - 12s 927ms/step - loss: 0.1047 - accuracy: 0.9639 - val_loss: 0.2605 - val_accuracy: 0.8731\n",
      "Epoch 15/18\n",
      "13/13 [==============================] - 12s 876ms/step - loss: 0.0730 - accuracy: 0.9784 - val_loss: 0.3455 - val_accuracy: 0.8507\n",
      "Epoch 16/18\n",
      "13/13 [==============================] - 12s 884ms/step - loss: 0.1038 - accuracy: 0.9663 - val_loss: 0.3116 - val_accuracy: 0.8433\n",
      "Epoch 17/18\n",
      "13/13 [==============================] - 12s 872ms/step - loss: 0.0877 - accuracy: 0.9784 - val_loss: 0.3312 - val_accuracy: 0.8582\n",
      "Epoch 18/18\n",
      "13/13 [==============================] - 12s 901ms/step - loss: 0.0878 - accuracy: 0.9688 - val_loss: 0.1725 - val_accuracy: 0.9328\n"
     ]
    }
   ],
   "source": [
    "r = model.fit(\n",
    "  training_set,\n",
    "  validation_data=test_set,\n",
    "  epochs=18,\n",
    "  steps_per_epoch=len(training_set),\n",
    "  validation_steps=len(test_set),\n",
    ")\n"
   ]
  },
  {
   "cell_type": "code",
   "execution_count": 91,
   "id": "f56e4af0",
   "metadata": {},
   "outputs": [
    {
     "data": {
      "image/png": "[encoded data removed]",
      "text/plain": [
       "<Figure size 432x288 with 1 Axes>"
      ]
     },
     "metadata": {
      "needs_background": "light"
     },
     "output_type": "display_data"
    },
    {
     "data": {
      "text/plain": [
       "<Figure size 432x288 with 0 Axes>"
      ]
     },
     "metadata": {},
     "output_type": "display_data"
    }
   ],
   "source": [
    "plt.plot(r.history['loss'], label='train loss')\n",
    "plt.plot(r.history['val_loss'], label='val loss')\n",
    "plt.legend()\n",
    "plt.show()\n",
    "plt.savefig('LossVal_loss')\n",
    "\n"
   ]
  },
  {
   "cell_type": "code",
   "execution_count": 92,
   "id": "7971eb13",
   "metadata": {},
   "outputs": [
    {
     "data": {
      "image/png": "[encoded data removed]",
      "text/plain": [
       "<Figure size 432x288 with 1 Axes>"
      ]
     },
     "metadata": {
      "needs_background": "light"
     },
     "output_type": "display_data"
    },
    {
     "data": {
      "text/plain": [
       "<Figure size 432x288 with 0 Axes>"
      ]
     },
     "metadata": {},
     "output_type": "display_data"
    }
   ],
   "source": [
    "plt.plot(r.history['accuracy'], label='train acc')\n",
    "plt.plot(r.history['val_accuracy'], label='val acc')\n",
    "plt.legend()\n",
    "plt.show()\n",
    "plt.savefig('AccVal_acc')"
   ]
  },
  {
   "cell_type": "code",
   "execution_count": 93,
   "id": "685a5b50",
   "metadata": {},
   "outputs": [],
   "source": [
    "from tensorflow.keras.models import load_model\n",
    "\n",
    "model.save('model_vgg19.h5')\n"
   ]
  },
  {
   "cell_type": "code",
   "execution_count": 94,
   "id": "775dab14",
   "metadata": {},
   "outputs": [
    {
     "name": "stdout",
     "output_type": "stream",
     "text": [
      "Model: \"sequential_2\"\n",
      "_________________________________________________________________\n",
      "Layer (type)                 Output Shape              Param #   \n",
      "=================================================================\n",
      "conv2d_6 (Conv2D)            (None, 224, 224, 16)      208       \n",
      "_________________________________________________________________\n",
      "max_pooling2d_6 (MaxPooling2 (None, 112, 112, 16)      0         \n",
      "_________________________________________________________________\n",
      "conv2d_7 (Conv2D)            (None, 112, 112, 32)      2080      \n",
      "_________________________________________________________________\n",
      "max_pooling2d_7 (MaxPooling2 (None, 56, 56, 32)        0         \n",
      "_________________________________________________________________\n",
      "conv2d_8 (Conv2D)            (None, 56, 56, 64)        8256      \n",
      "_________________________________________________________________\n",
      "max_pooling2d_8 (MaxPooling2 (None, 28, 28, 64)        0         \n",
      "_________________________________________________________________\n",
      "flatten_5 (Flatten)          (None, 50176)             0         \n",
      "_________________________________________________________________\n",
      "dense_7 (Dense)              (None, 500)               25088500  \n",
      "_________________________________________________________________\n",
      "dense_8 (Dense)              (None, 2)                 1002      \n",
      "=================================================================\n",
      "Total params: 25,100,046\n",
      "Trainable params: 25,100,046\n",
      "Non-trainable params: 0\n",
      "_________________________________________________________________\n"
     ]
    }
   ],
   "source": [
    "model.summary()"
   ]
  },
  {
   "cell_type": "code",
   "execution_count": 95,
   "id": "0c298890",
   "metadata": {},
   "outputs": [
    {
     "name": "stdout",
     "output_type": "stream",
     "text": [
      "WARNING:tensorflow:5 out of the last 15 calls to <function Model.make_predict_function.<locals>.predict_function at 0x00000216BDDDE4C0> triggered tf.function retracing. Tracing is expensive and the excessive number of tracings could be due to (1) creating @tf.function repeatedly in a loop, (2) passing tensors with different shapes, (3) passing Python objects instead of tensors. For (1), please define your @tf.function outside of the loop. For (2), @tf.function has experimental_relax_shapes=True option that relaxes argument shapes that can avoid unnecessary retracing. For (3), please refer to https://www.tensorflow.org/guide/function#controlling_retracing and https://www.tensorflow.org/api_docs/python/tf/function for  more details.\n"
     ]
    }
   ],
   "source": [
    "y_pred = model.predict(test_set)"
   ]
  },
  {
   "cell_type": "code",
   "execution_count": 96,
   "id": "89dcd5af",
   "metadata": {
    "scrolled": false
   },
   "outputs": [
    {
     "data": {
      "text/plain": [
       "array([[7.55020022e-01, 2.44979933e-01],\n",
       "       [9.96567249e-01, 3.43271159e-03],\n",
       "       [9.99321699e-01, 6.78259297e-04],\n",
       "       [9.86374319e-02, 9.01362538e-01],\n",
       "       [9.41319689e-02, 9.05868053e-01],\n",
       "       [9.98902678e-01, 1.09733094e-03],\n",
       "       [9.91881192e-01, 8.11883621e-03],\n",
       "       [9.85045135e-01, 1.49548883e-02],\n",
       "       [9.99859214e-01, 1.40726668e-04],\n",
       "       [8.70837271e-01, 1.29162788e-01],\n",
       "       [9.99470770e-01, 5.29289537e-04],\n",
       "       [9.93268669e-01, 6.73135649e-03],\n",
       "       [9.99398589e-01, 6.01403008e-04],\n",
       "       [9.99574959e-01, 4.24984028e-04],\n",
       "       [1.32734999e-01, 8.67264926e-01],\n",
       "       [3.48741710e-02, 9.65125799e-01],\n",
       "       [9.29701984e-01, 7.02980384e-02],\n",
       "       [9.96409953e-01, 3.59006505e-03],\n",
       "       [9.99998093e-01, 1.92057746e-06],\n",
       "       [4.22990143e-01, 5.77009916e-01],\n",
       "       [9.99984980e-01, 1.50046444e-05],\n",
       "       [4.99366075e-02, 9.50063348e-01],\n",
       "       [1.57853484e-01, 8.42146516e-01],\n",
       "       [8.85853469e-01, 1.14146493e-01],\n",
       "       [9.99744117e-01, 2.55927123e-04],\n",
       "       [1.38006106e-01, 8.61993849e-01],\n",
       "       [4.32020187e-01, 5.67979753e-01],\n",
       "       [1.97236449e-01, 8.02763581e-01],\n",
       "       [9.54224542e-02, 9.04577553e-01],\n",
       "       [9.97522414e-01, 2.47757952e-03],\n",
       "       [8.07361007e-02, 9.19263840e-01],\n",
       "       [5.43340445e-01, 4.56659526e-01],\n",
       "       [1.00000000e+00, 6.64951094e-10],\n",
       "       [9.35091972e-02, 9.06490803e-01],\n",
       "       [9.97204065e-01, 2.79601966e-03],\n",
       "       [1.00976065e-01, 8.99023950e-01],\n",
       "       [9.96931791e-01, 3.06823221e-03],\n",
       "       [9.99991655e-01, 8.39714357e-06],\n",
       "       [9.95057225e-01, 4.94276499e-03],\n",
       "       [9.99999881e-01, 1.32468898e-07],\n",
       "       [9.99890804e-01, 1.09215551e-04],\n",
       "       [1.27085701e-01, 8.72914314e-01],\n",
       "       [9.99854922e-01, 1.45021040e-04],\n",
       "       [9.99999881e-01, 1.22024773e-07],\n",
       "       [9.99728501e-01, 2.71437835e-04],\n",
       "       [9.98065770e-01, 1.93419470e-03],\n",
       "       [9.97406662e-01, 2.59327958e-03],\n",
       "       [1.40359640e-01, 8.59640360e-01],\n",
       "       [9.97319043e-01, 2.68093706e-03],\n",
       "       [2.80670673e-02, 9.71932888e-01],\n",
       "       [9.96254683e-01, 3.74530838e-03],\n",
       "       [1.39332250e-01, 8.60667706e-01],\n",
       "       [2.59427607e-01, 7.40572333e-01],\n",
       "       [5.82519710e-01, 4.17480260e-01],\n",
       "       [2.95638502e-01, 7.04361558e-01],\n",
       "       [5.18932462e-01, 4.81067479e-01],\n",
       "       [8.75640661e-02, 9.12435889e-01],\n",
       "       [9.34662402e-01, 6.53375611e-02],\n",
       "       [9.99945164e-01, 5.47816016e-05],\n",
       "       [9.53759015e-01, 4.62409705e-02],\n",
       "       [9.99098420e-01, 9.01613850e-04],\n",
       "       [9.99913692e-01, 8.62550078e-05],\n",
       "       [4.81419899e-02, 9.51857924e-01],\n",
       "       [2.12840617e-01, 7.87159383e-01],\n",
       "       [9.88153756e-01, 1.18462248e-02],\n",
       "       [5.23432791e-01, 4.76567268e-01],\n",
       "       [9.99996662e-01, 3.39203825e-06],\n",
       "       [9.85842168e-01, 1.41577767e-02],\n",
       "       [5.42188704e-01, 4.57811326e-01],\n",
       "       [3.33423428e-02, 9.66657698e-01],\n",
       "       [9.99962687e-01, 3.73386574e-05],\n",
       "       [9.99999404e-01, 5.96263590e-07],\n",
       "       [9.93724644e-01, 6.27541076e-03],\n",
       "       [9.77735162e-01, 2.22648773e-02],\n",
       "       [9.98501420e-01, 1.49864424e-03],\n",
       "       [9.98547018e-01, 1.45289733e-03],\n",
       "       [1.26239479e-01, 8.73760521e-01],\n",
       "       [4.50525135e-01, 5.49474835e-01],\n",
       "       [9.13336039e-01, 8.66639093e-02],\n",
       "       [9.26559642e-02, 9.07344043e-01],\n",
       "       [3.40834588e-01, 6.59165382e-01],\n",
       "       [9.99601901e-01, 3.98111006e-04],\n",
       "       [9.98921633e-01, 1.07842952e-03],\n",
       "       [5.43333255e-02, 9.45666671e-01],\n",
       "       [9.95323122e-01, 4.67690825e-03],\n",
       "       [9.98174787e-01, 1.82519050e-03],\n",
       "       [9.95321572e-01, 4.67849104e-03],\n",
       "       [8.91162679e-02, 9.10883725e-01],\n",
       "       [6.16897523e-01, 3.83102477e-01],\n",
       "       [9.91633058e-01, 8.36686324e-03],\n",
       "       [2.54299849e-01, 7.45700181e-01],\n",
       "       [1.00626580e-01, 8.99373412e-01],\n",
       "       [9.98561680e-01, 1.43834227e-03],\n",
       "       [9.33132842e-02, 9.06686664e-01],\n",
       "       [1.01934776e-01, 8.98065209e-01],\n",
       "       [9.99889016e-01, 1.10943074e-04],\n",
       "       [1.00000000e+00, 2.83853741e-08],\n",
       "       [9.99994397e-01, 5.57169869e-06],\n",
       "       [9.99996901e-01, 3.11972371e-06],\n",
       "       [1.11819379e-01, 8.88180554e-01],\n",
       "       [9.99956250e-01, 4.37432973e-05],\n",
       "       [9.99988317e-01, 1.16336623e-05],\n",
       "       [8.50509226e-01, 1.49490803e-01],\n",
       "       [9.54268932e-01, 4.57310304e-02],\n",
       "       [1.00000000e+00, 6.21532159e-10],\n",
       "       [3.09482329e-02, 9.69051719e-01],\n",
       "       [9.96761024e-01, 3.23901023e-03],\n",
       "       [9.99969244e-01, 3.07634509e-05],\n",
       "       [4.76680011e-01, 5.23320079e-01],\n",
       "       [7.04437569e-02, 9.29556191e-01],\n",
       "       [5.65136254e-01, 4.34863687e-01],\n",
       "       [1.00000000e+00, 3.90873511e-09],\n",
       "       [7.50420839e-02, 9.24957931e-01],\n",
       "       [9.99983072e-01, 1.68979041e-05],\n",
       "       [2.24664837e-01, 7.75335193e-01],\n",
       "       [2.00313345e-01, 7.99686730e-01],\n",
       "       [1.00000000e+00, 2.28030338e-11],\n",
       "       [1.00000000e+00, 5.31053500e-12],\n",
       "       [3.65057662e-02, 9.63494301e-01],\n",
       "       [3.47695291e-01, 6.52304709e-01],\n",
       "       [9.99147415e-01, 8.52530065e-04],\n",
       "       [2.78534710e-01, 7.21465290e-01],\n",
       "       [5.11034839e-02, 9.48896527e-01],\n",
       "       [4.57179137e-02, 9.54282105e-01],\n",
       "       [9.98421907e-01, 1.57810736e-03],\n",
       "       [1.99268371e-01, 8.00731659e-01],\n",
       "       [9.99950171e-01, 4.98113004e-05],\n",
       "       [9.91704226e-01, 8.29575490e-03],\n",
       "       [9.99910474e-01, 8.95240883e-05],\n",
       "       [7.63455853e-02, 9.23654377e-01],\n",
       "       [9.94304001e-01, 5.69599029e-03],\n",
       "       [9.89363372e-01, 1.06366426e-02],\n",
       "       [1.17502026e-01, 8.82497966e-01],\n",
       "       [1.06579438e-01, 8.93420577e-01]], dtype=float32)"
      ]
     },
     "execution_count": 96,
     "metadata": {},
     "output_type": "execute_result"
    }
   ],
   "source": [
    "y_pred"
   ]
  },
  {
   "cell_type": "code",
   "execution_count": 97,
   "id": "7e6bfe17",
   "metadata": {},
   "outputs": [],
   "source": [
    "import numpy as np\n",
    "y_pred = np.argmax(y_pred, axis=1)"
   ]
  },
  {
   "cell_type": "code",
   "execution_count": 98,
   "id": "54ba3b23",
   "metadata": {},
   "outputs": [
    {
     "data": {
      "text/plain": [
       "array([0, 0, 0, 1, 1, 0, 0, 0, 0, 0, 0, 0, 0, 0, 1, 1, 0, 0, 0, 1, 0, 1,\n",
       "       1, 0, 0, 1, 1, 1, 1, 0, 1, 0, 0, 1, 0, 1, 0, 0, 0, 0, 0, 1, 0, 0,\n",
       "       0, 0, 0, 1, 0, 1, 0, 1, 1, 0, 1, 0, 1, 0, 0, 0, 0, 0, 1, 1, 0, 0,\n",
       "       0, 0, 0, 1, 0, 0, 0, 0, 0, 0, 1, 1, 0, 1, 1, 0, 0, 1, 0, 0, 0, 1,\n",
       "       0, 0, 1, 1, 0, 1, 1, 0, 0, 0, 0, 1, 0, 0, 0, 0, 0, 1, 0, 0, 1, 1,\n",
       "       0, 0, 1, 0, 1, 1, 0, 0, 1, 1, 0, 1, 1, 1, 0, 1, 0, 0, 0, 1, 0, 0,\n",
       "       1, 1], dtype=int64)"
      ]
     },
     "execution_count": 98,
     "metadata": {},
     "output_type": "execute_result"
    }
   ],
   "source": [
    "y_pred"
   ]
  },
  {
   "cell_type": "code",
   "execution_count": 99,
   "id": "3babfdd0",
   "metadata": {},
   "outputs": [],
   "source": [
    "from tensorflow.keras.models import load_model\n",
    "from tensorflow.keras.preprocessing import image"
   ]
  },
  {
   "cell_type": "code",
   "execution_count": 100,
   "id": "1e1cd36e",
   "metadata": {},
   "outputs": [],
   "source": [
    "model=load_model('model_vgg19.h5')"
   ]
  },
  {
   "cell_type": "code",
   "execution_count": 101,
   "id": "9016b819",
   "metadata": {},
   "outputs": [],
   "source": [
    "img=image.load_img(r'C:\\Users\\Lenovo\\Desktop\\BE Project\\malariadetect\\Dataset\\Test\\Uninfected\\11.png',target_size=(224,224))\n"
   ]
  },
  {
   "cell_type": "code",
   "execution_count": 102,
   "id": "61680b89",
   "metadata": {},
   "outputs": [
    {
     "data": {
      "text/plain": [
       "array([[[0., 0., 0.],\n",
       "        [0., 0., 0.],\n",
       "        [0., 0., 0.],\n",
       "        ...,\n",
       "        [0., 0., 0.],\n",
       "        [0., 0., 0.],\n",
       "        [0., 0., 0.]],\n",
       "\n",
       "       [[0., 0., 0.],\n",
       "        [0., 0., 0.],\n",
       "        [0., 0., 0.],\n",
       "        ...,\n",
       "        [0., 0., 0.],\n",
       "        [0., 0., 0.],\n",
       "        [0., 0., 0.]],\n",
       "\n",
       "       [[0., 0., 0.],\n",
       "        [0., 0., 0.],\n",
       "        [0., 0., 0.],\n",
       "        ...,\n",
       "        [0., 0., 0.],\n",
       "        [0., 0., 0.],\n",
       "        [0., 0., 0.]],\n",
       "\n",
       "       ...,\n",
       "\n",
       "       [[0., 0., 0.],\n",
       "        [0., 0., 0.],\n",
       "        [0., 0., 0.],\n",
       "        ...,\n",
       "        [0., 0., 0.],\n",
       "        [0., 0., 0.],\n",
       "        [0., 0., 0.]],\n",
       "\n",
       "       [[0., 0., 0.],\n",
       "        [0., 0., 0.],\n",
       "        [0., 0., 0.],\n",
       "        ...,\n",
       "        [0., 0., 0.],\n",
       "        [0., 0., 0.],\n",
       "        [0., 0., 0.]],\n",
       "\n",
       "       [[0., 0., 0.],\n",
       "        [0., 0., 0.],\n",
       "        [0., 0., 0.],\n",
       "        ...,\n",
       "        [0., 0., 0.],\n",
       "        [0., 0., 0.],\n",
       "        [0., 0., 0.]]], dtype=float32)"
      ]
     },
     "execution_count": 102,
     "metadata": {},
     "output_type": "execute_result"
    }
   ],
   "source": [
    "x=image.img_to_array(img)\n",
    "x"
   ]
  },
  {
   "cell_type": "code",
   "execution_count": 103,
   "id": "eaa81021",
   "metadata": {},
   "outputs": [
    {
     "data": {
      "text/plain": [
       "(224, 224, 3)"
      ]
     },
     "execution_count": 103,
     "metadata": {},
     "output_type": "execute_result"
    }
   ],
   "source": [
    "x.shape"
   ]
  },
  {
   "cell_type": "code",
   "execution_count": 104,
   "id": "9499f060",
   "metadata": {},
   "outputs": [],
   "source": [
    "x=x/255"
   ]
  },
  {
   "cell_type": "code",
   "execution_count": 105,
   "id": "a5f26618",
   "metadata": {},
   "outputs": [
    {
     "data": {
      "text/plain": [
       "(1, 224, 224, 3)"
      ]
     },
     "execution_count": 105,
     "metadata": {},
     "output_type": "execute_result"
    }
   ],
   "source": [
    "x=np.expand_dims(x,axis=0)\n",
    "img_data=preprocess_input(x)\n",
    "img_data.shape"
   ]
  },
  {
   "cell_type": "code",
   "execution_count": 106,
   "id": "1f9d10ea",
   "metadata": {},
   "outputs": [
    {
     "data": {
      "text/plain": [
       "array([[1., 0.]], dtype=float32)"
      ]
     },
     "execution_count": 106,
     "metadata": {},
     "output_type": "execute_result"
    }
   ],
   "source": [
    "model.predict(img_data)"
   ]
  },
  {
   "cell_type": "code",
   "execution_count": 107,
   "id": "a4d1a95f",
   "metadata": {},
   "outputs": [],
   "source": [
    "a=np.argmax(model.predict(img_data), axis=1)"
   ]
  },
  {
   "cell_type": "code",
   "execution_count": 108,
   "id": "82eb6c9a",
   "metadata": {},
   "outputs": [
    {
     "name": "stdout",
     "output_type": "stream",
     "text": [
      "Infected\n"
     ]
    }
   ],
   "source": [
    "if(a==1):\n",
    "    print(\"Uninfected\")\n",
    "else:\n",
    "    print(\"Infected\")"
   ]
  },
  {
   "cell_type": "code",
   "execution_count": null,
   "id": "687ccd4e",
   "metadata": {},
   "outputs": [],
   "source": []
  }
 ],
 "metadata": {
  "kernelspec": {
   "display_name": "Python 3",
   "language": "python",
   "name": "python3"
  },
  "language_info": {
   "codemirror_mode": {
    "name": "ipython",
    "version": 3
   },
   "file_extension": ".py",
   "mimetype": "text/x-python",
   "name": "python",
   "nbconvert_exporter": "python",
   "pygments_lexer": "ipython3",
   "version": "3.8.8"
  }
 },
 "nbformat": 4,
 "nbformat_minor": 5
}
